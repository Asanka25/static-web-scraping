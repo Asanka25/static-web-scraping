{
 "cells": [
  {
   "cell_type": "code",
   "execution_count": 3,
   "metadata": {},
   "outputs": [],
   "source": [
    "import requests\n",
    "from bs4 import BeautifulSoup\n",
    "import re\n",
    "import csv"
   ]
  },
  {
   "cell_type": "code",
   "execution_count": 20,
   "metadata": {},
   "outputs": [],
   "source": [
    "URL = f'https://www.wired.com/category/science/page/1/'\n",
    "page = requests.get(URL)  # retrieve HTML data from server and stores as python object\n",
    "soup = BeautifulSoup(page.content, 'html.parser') # parse it as easily interactable data format\n",
    "# print((soup))"
   ]
  },
  {
   "cell_type": "code",
   "execution_count": 53,
   "metadata": {},
   "outputs": [],
   "source": [
    "csv_file=open('science-blogs.csv','w',newline='',  encoding='utf-8')\n",
    "csv_writer=csv.writer(csv_file)\n",
    "csv_writer.writerow(['date','title','author'])\n",
    "\n",
    "for i in range(10):\n",
    "    \n",
    "    li_items=soup.find_all('li',class_='archive-item-component')\n",
    "    for li in li_items:\n",
    "        line=li.find('div',class_='archive-item-component__byline') \n",
    "        title=li.find('h2',class_='archive-item-component__title').text\n",
    "        date=line.time.text # get date lies inside time tag\n",
    "        author=line.a.text     # get author name lies inside a tag\n",
    "#       print(f'title:{title},date:{date}, author:{author}')\n",
    "        csv_writer.writerow([date,title,author])\n",
    "\n",
    "csv_file.close()"
   ]
  }
 ],
 "metadata": {
  "kernelspec": {
   "display_name": "Python 3",
   "language": "python",
   "name": "python3"
  },
  "language_info": {
   "codemirror_mode": {
    "name": "ipython",
    "version": 3
   },
   "file_extension": ".py",
   "mimetype": "text/x-python",
   "name": "python",
   "nbconvert_exporter": "python",
   "pygments_lexer": "ipython3",
   "version": "3.8.10"
  }
 },
 "nbformat": 4,
 "nbformat_minor": 4
}
